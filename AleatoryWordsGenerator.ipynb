{
  "nbformat": 4,
  "nbformat_minor": 0,
  "metadata": {
    "colab": {
      "name": "AleatoryWordsGenerator.ipynb",
      "provenance": [],
      "collapsed_sections": [],
      "authorship_tag": "ABX9TyN9xHDyxYVzKbvFyGuC56qP",
      "include_colab_link": true
    },
    "kernelspec": {
      "name": "python3",
      "display_name": "Python 3"
    },
    "language_info": {
      "name": "python"
    }
  },
  "cells": [
    {
      "cell_type": "markdown",
      "metadata": {
        "id": "view-in-github",
        "colab_type": "text"
      },
      "source": [
        "<a href=\"https://colab.research.google.com/github/andersonnb6/AleatoryWordsGenerator/blob/main/AleatoryWordsGenerator.ipynb\" target=\"_parent\"><img src=\"https://colab.research.google.com/assets/colab-badge.svg\" alt=\"Open In Colab\"/></a>"
      ]
    },
    {
      "cell_type": "markdown",
      "source": [
        "#Gerador de Palavras Aleatórias\n",
        "Contempla mais de 200 mil palavras da língua portuguesa.\n",
        "Banco de dados disponível em https://www.ime.usp.br/~pf/dicios/br-utf8.txt\n",
        "\n",
        "* Adaptar para um banco de dados com listas de frutas, profissões, alimentos, etc."
      ],
      "metadata": {
        "id": "-tcR7XSs8Ay-"
      }
    },
    {
      "cell_type": "code",
      "execution_count": null,
      "metadata": {
        "id": "srcAUlHcYd6A"
      },
      "outputs": [],
      "source": [
        "# Importanto pacotes\n",
        "import pandas as pd"
      ]
    },
    {
      "cell_type": "code",
      "source": [
        "# Link do banco de dados com todas as palávras da língua portuguesa\n",
        "url = 'https://www.ime.usp.br/~pf/dicios/br-utf8.txt'\n",
        "\n",
        "# Importando banco de dados com as palavras\n",
        "df = pd.read_csv(url, names = ['palavras'], header = 0)"
      ],
      "metadata": {
        "id": "bFWbuRadZWxi"
      },
      "execution_count": null,
      "outputs": []
    },
    {
      "cell_type": "code",
      "source": [
        "# Estabelecendo Filtros\n",
        "total_palavras = 20\n",
        "min_letras = 5\n",
        "max_letras = 10\n",
        "contem_letras = '' # usar pipe quando quiser mais de uma opção\n",
        "\n",
        "# Filtrando database com base no min e max de letras\n",
        "df_filtered = df[df['palavras'].str.len() >= min_letras] # por min_letras\n",
        "df_filtered = df_filtered[df_filtered['palavras'].str.len() <= max_letras] # por max_letras\n",
        "\n",
        "# Filtrando database com base na presença de caracteres\n",
        "if  len(contem_letras) > 0:\n",
        "  df_filtered = df_filtered[df_filtered['palavras'].str.contains(contem_letras)] # por presença letras\n",
        "\n",
        "# Selecionando linhas aleatórias a partir da tabela filtrada\n",
        "df_lines = len(df_filtered.index)\n",
        "if total_palavras <= df_lines:\n",
        "  df_filtered = df_filtered.sample(total_palavras)\n",
        "else:\n",
        "  df_filtered = df_filtered.sample(df_lines)\n",
        "\n",
        "# Convertendo em Lista seguido de String\n",
        "result_list = df_filtered['palavras'].values.tolist()\n",
        "result_str = \"\\n\".join(result_list)\n",
        "\n",
        "# Printando resultado\n",
        "print(result_str)\n",
        "\n",
        "# Criando arquivo com resultado\n",
        "with open('resultado.txt', 'w') as arquivo:\n",
        "    arquivo.write(result_str)"
      ],
      "metadata": {
        "id": "2RiKjYw1bbjr"
      },
      "execution_count": null,
      "outputs": []
    }
  ]
}